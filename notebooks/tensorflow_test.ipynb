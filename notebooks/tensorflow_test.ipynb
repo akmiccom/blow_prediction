{
 "cells": [
  {
   "cell_type": "code",
   "execution_count": 72,
   "metadata": {},
   "outputs": [
    {
     "name": "stdout",
     "output_type": "stream",
     "text": [
      "TensorFlow version: 2.17.0\n"
     ]
    }
   ],
   "source": [
    "import pandas as pd\n",
    "import matplotlib.pyplot as plt\n",
    "import tensorflow as tf\n",
    "\n",
    "print(f'TensorFlow version: {tf.__version__}')"
   ]
  },
  {
   "cell_type": "code",
   "execution_count": 50,
   "metadata": {},
   "outputs": [
    {
     "data": {
      "text/plain": [
       "((60000, 28, 28), (60000,), (10000, 28, 28), (10000,))"
      ]
     },
     "execution_count": 50,
     "metadata": {},
     "output_type": "execute_result"
    }
   ],
   "source": [
    "# trainデータ\n",
    "# X_train: 手書き数字の白黒画像 60,000枚 - {xi∈R28×28}i=1∼60000\n",
    "# y_train: 手書き数字のラベル 60,000個 - {yi∈[0,1,…,9]}i=1∼60000\n",
    "# testデータ\n",
    "# X_test: 手書き数字の白黒画像 10,000枚 - {xi∈R28×28}i=1∼10000\n",
    "# y_test: 手書き数字のラベル 10,000個 - {yi∈[0,1,…,9]}i=1∼10000\n",
    "\n",
    "mnist = tf.keras.datasets.mnist\n",
    "(x_train, y_train), (x_test, y_test) = mnist.load_data()\n",
    "x_train.shape, y_train.shape, x_test.shape, y_test.shape"
   ]
  },
  {
   "cell_type": "code",
   "execution_count": 51,
   "metadata": {},
   "outputs": [
    {
     "name": "stdout",
     "output_type": "stream",
     "text": [
      "0.0 1.0\n"
     ]
    }
   ],
   "source": [
    "# 正規化\n",
    "x_train, x_test = x_train / 255.0, x_test / 255.0"
   ]
  },
  {
   "cell_type": "code",
   "execution_count": 42,
   "metadata": {},
   "outputs": [
    {
     "data": {
      "image/png": "[encoded data removed]",
      "text/plain": [
       "<Figure size 1000x300 with 3 Axes>"
      ]
     },
     "metadata": {},
     "output_type": "display_data"
    }
   ],
   "source": [
    "fig, axs = plt.subplots(1, 3, figsize=(10, 3))\n",
    "for i, ax in zip([1, 10, 100], axs):\n",
    "    ax.imshow(x_train[i], cmap=\"gray\")\n",
    "# ax.show()"
   ]
  },
  {
   "cell_type": "code",
   "execution_count": 65,
   "metadata": {},
   "outputs": [],
   "source": [
    "model = tf.keras.models.Sequential([\n",
    "    # tf.keras.layers.Flatten(input_shape=(28, 28)),\n",
    "    tf.keras.layers.Input(shape=(28, 28)),\n",
    "    tf.keras.layers.Flatten(),\n",
    "    tf.keras.layers.Dense(128, activation='relu'),\n",
    "    tf.keras.layers.Dropout(0.2),\n",
    "    tf.keras.layers.Dense(10),\n",
    "])\n",
    "# \n",
    "model = tf.keras.models.Sequential()\n",
    "model.add(tf.keras.layers.Input(shape=(28, 28)))\n",
    "model.add(tf.keras.layers.Flatten())\n",
    "model.add(tf.keras.layers.Dense(128, activation='relu'))\n",
    "model.add(tf.keras.layers.Dropout(0.2))\n",
    "model.add(tf.keras.layers.Dense(10))\n",
    "\n",
    "# # View model architecture\n",
    "# model.summary()"
   ]
  },
  {
   "cell_type": "code",
   "execution_count": 88,
   "metadata": {},
   "outputs": [
    {
     "name": "stderr",
     "output_type": "stream",
     "text": [
      "c:\\Users\\JY810251\\python\\blow_prediction\\.venv\\Lib\\site-packages\\keras\\src\\layers\\reshaping\\flatten.py:37: UserWarning: Do not pass an `input_shape`/`input_dim` argument to a layer. When using Sequential models, prefer using an `Input(shape)` object as the first layer in the model instead.\n",
      "  super().__init__(**kwargs)\n"
     ]
    }
   ],
   "source": [
    "# モデル\n",
    "model = tf.keras.models.Sequential(\n",
    "    [\n",
    "        # (None, 28, 28) -> (None, 784)\n",
    "        tf.keras.layers.Flatten(input_shape=(28, 28), name=\"input\"),\n",
    "        # Layer1: Linear mapping: (None, 784) -> (None, 512)\n",
    "        tf.keras.layers.Dense(512, name=\"fc_1\"),\n",
    "        # Activation function: ReLU\n",
    "        tf.keras.layers.Activation(tf.nn.relu, name=\"relu_1\"),\n",
    "        # Layer2: Linear mapping: (None, 512) -> (None, 256)\n",
    "        tf.keras.layers.Dense(256, name=\"fc_2\"),\n",
    "        # Activation function: ReLU\n",
    "        tf.keras.layers.Activation(tf.nn.relu, name=\"relu_2\"),\n",
    "        # Layer3: Linear mapping: (None, 256) -> (None, 256)\n",
    "        tf.keras.layers.Dense(256, name=\"fc_3\"),\n",
    "        # Activation function: ReLU\n",
    "        tf.keras.layers.Activation(tf.nn.relu, name=\"relu_3\"),\n",
    "        # Layer4: Linear mapping: (None, 256) -> (None, 10)\n",
    "        tf.keras.layers.Dense(10, name=\"dense_3\"),\n",
    "        # Activation function: Softmax\n",
    "        tf.keras.layers.Activation(tf.nn.softmax, name=\"softmax\"),\n",
    "    ]\n",
    ")"
   ]
  },
  {
   "cell_type": "code",
   "execution_count": 89,
   "metadata": {},
   "outputs": [],
   "source": [
    "# predictons = model(x_train[:1]).numpy()"
   ]
  },
  {
   "cell_type": "code",
   "execution_count": 90,
   "metadata": {},
   "outputs": [],
   "source": [
    "# # tf.nn.softmax(predictons).numpy()\n",
    "# loss_fn = tf.keras.losses.SparseCategoricalCrossentropy(from_logits=True)\n",
    "# loss_fn(y_train[:1], predictons).numpy()"
   ]
  },
  {
   "cell_type": "code",
   "execution_count": 91,
   "metadata": {},
   "outputs": [],
   "source": [
    "# Compiling\n",
    "# Set model & training information into machine memory (CPU or GPU)\n",
    "model.compile(optimizer='adam',\n",
    "              loss='sparse_categorical_crossentropy',\n",
    "              metrics=['accuracy'])"
   ]
  },
  {
   "cell_type": "code",
   "execution_count": 92,
   "metadata": {},
   "outputs": [
    {
     "name": "stdout",
     "output_type": "stream",
     "text": [
      "Epoch 1/30\n",
      "\u001b[1m600/600\u001b[0m \u001b[32m━━━━━━━━━━━━━━━━━━━━\u001b[0m\u001b[37m\u001b[0m \u001b[1m12s\u001b[0m 16ms/step - accuracy: 0.8840 - loss: 0.3928 - val_accuracy: 0.9680 - val_loss: 0.1053\n",
      "Epoch 2/30\n",
      "\u001b[1m600/600\u001b[0m \u001b[32m━━━━━━━━━━━━━━━━━━━━\u001b[0m\u001b[37m\u001b[0m \u001b[1m10s\u001b[0m 17ms/step - accuracy: 0.9741 - loss: 0.0840 - val_accuracy: 0.9718 - val_loss: 0.0790\n",
      "Epoch 3/30\n",
      "\u001b[1m600/600\u001b[0m \u001b[32m━━━━━━━━━━━━━━━━━━━━\u001b[0m\u001b[37m\u001b[0m \u001b[1m9s\u001b[0m 15ms/step - accuracy: 0.9831 - loss: 0.0506 - val_accuracy: 0.9721 - val_loss: 0.0896\n",
      "Epoch 4/30\n",
      "\u001b[1m600/600\u001b[0m \u001b[32m━━━━━━━━━━━━━━━━━━━━\u001b[0m\u001b[37m\u001b[0m \u001b[1m10s\u001b[0m 16ms/step - accuracy: 0.9871 - loss: 0.0397 - val_accuracy: 0.9763 - val_loss: 0.0780\n",
      "Epoch 5/30\n",
      "\u001b[1m600/600\u001b[0m \u001b[32m━━━━━━━━━━━━━━━━━━━━\u001b[0m\u001b[37m\u001b[0m \u001b[1m9s\u001b[0m 15ms/step - accuracy: 0.9908 - loss: 0.0281 - val_accuracy: 0.9745 - val_loss: 0.0840\n",
      "Epoch 6/30\n",
      "\u001b[1m600/600\u001b[0m \u001b[32m━━━━━━━━━━━━━━━━━━━━\u001b[0m\u001b[37m\u001b[0m \u001b[1m10s\u001b[0m 16ms/step - accuracy: 0.9905 - loss: 0.0291 - val_accuracy: 0.9762 - val_loss: 0.0892\n",
      "Epoch 7/30\n",
      "\u001b[1m600/600\u001b[0m \u001b[32m━━━━━━━━━━━━━━━━━━━━\u001b[0m\u001b[37m\u001b[0m \u001b[1m9s\u001b[0m 15ms/step - accuracy: 0.9935 - loss: 0.0190 - val_accuracy: 0.9783 - val_loss: 0.0838\n",
      "Epoch 8/30\n",
      "\u001b[1m600/600\u001b[0m \u001b[32m━━━━━━━━━━━━━━━━━━━━\u001b[0m\u001b[37m\u001b[0m \u001b[1m9s\u001b[0m 15ms/step - accuracy: 0.9927 - loss: 0.0222 - val_accuracy: 0.9794 - val_loss: 0.0775\n",
      "Epoch 9/30\n",
      "\u001b[1m600/600\u001b[0m \u001b[32m━━━━━━━━━━━━━━━━━━━━\u001b[0m\u001b[37m\u001b[0m \u001b[1m10s\u001b[0m 16ms/step - accuracy: 0.9952 - loss: 0.0140 - val_accuracy: 0.9772 - val_loss: 0.0956\n",
      "Epoch 10/30\n",
      "\u001b[1m600/600\u001b[0m \u001b[32m━━━━━━━━━━━━━━━━━━━━\u001b[0m\u001b[37m\u001b[0m \u001b[1m9s\u001b[0m 15ms/step - accuracy: 0.9945 - loss: 0.0171 - val_accuracy: 0.9790 - val_loss: 0.0829\n",
      "Epoch 11/30\n",
      "\u001b[1m600/600\u001b[0m \u001b[32m━━━━━━━━━━━━━━━━━━━━\u001b[0m\u001b[37m\u001b[0m \u001b[1m9s\u001b[0m 14ms/step - accuracy: 0.9956 - loss: 0.0144 - val_accuracy: 0.9804 - val_loss: 0.0791\n",
      "Epoch 12/30\n",
      "\u001b[1m600/600\u001b[0m \u001b[32m━━━━━━━━━━━━━━━━━━━━\u001b[0m\u001b[37m\u001b[0m \u001b[1m8s\u001b[0m 14ms/step - accuracy: 0.9971 - loss: 0.0090 - val_accuracy: 0.9789 - val_loss: 0.1025\n",
      "Epoch 13/30\n",
      "\u001b[1m600/600\u001b[0m \u001b[32m━━━━━━━━━━━━━━━━━━━━\u001b[0m\u001b[37m\u001b[0m \u001b[1m9s\u001b[0m 14ms/step - accuracy: 0.9952 - loss: 0.0145 - val_accuracy: 0.9785 - val_loss: 0.0988\n",
      "Epoch 14/30\n",
      "\u001b[1m600/600\u001b[0m \u001b[32m━━━━━━━━━━━━━━━━━━━━\u001b[0m\u001b[37m\u001b[0m \u001b[1m9s\u001b[0m 15ms/step - accuracy: 0.9952 - loss: 0.0153 - val_accuracy: 0.9823 - val_loss: 0.0815\n",
      "Epoch 15/30\n",
      "\u001b[1m600/600\u001b[0m \u001b[32m━━━━━━━━━━━━━━━━━━━━\u001b[0m\u001b[37m\u001b[0m \u001b[1m10s\u001b[0m 16ms/step - accuracy: 0.9965 - loss: 0.0102 - val_accuracy: 0.9810 - val_loss: 0.0850\n",
      "Epoch 16/30\n",
      "\u001b[1m600/600\u001b[0m \u001b[32m━━━━━━━━━━━━━━━━━━━━\u001b[0m\u001b[37m\u001b[0m \u001b[1m9s\u001b[0m 14ms/step - accuracy: 0.9977 - loss: 0.0070 - val_accuracy: 0.9840 - val_loss: 0.0748\n",
      "Epoch 17/30\n",
      "\u001b[1m600/600\u001b[0m \u001b[32m━━━━━━━━━━━━━━━━━━━━\u001b[0m\u001b[37m\u001b[0m \u001b[1m8s\u001b[0m 13ms/step - accuracy: 0.9977 - loss: 0.0071 - val_accuracy: 0.9809 - val_loss: 0.0910\n",
      "Epoch 18/30\n",
      "\u001b[1m600/600\u001b[0m \u001b[32m━━━━━━━━━━━━━━━━━━━━\u001b[0m\u001b[37m\u001b[0m \u001b[1m8s\u001b[0m 14ms/step - accuracy: 0.9972 - loss: 0.0099 - val_accuracy: 0.9831 - val_loss: 0.0857\n",
      "Epoch 19/30\n",
      "\u001b[1m600/600\u001b[0m \u001b[32m━━━━━━━━━━━━━━━━━━━━\u001b[0m\u001b[37m\u001b[0m \u001b[1m9s\u001b[0m 14ms/step - accuracy: 0.9965 - loss: 0.0114 - val_accuracy: 0.9808 - val_loss: 0.0851\n",
      "Epoch 20/30\n",
      "\u001b[1m600/600\u001b[0m \u001b[32m━━━━━━━━━━━━━━━━━━━━\u001b[0m\u001b[37m\u001b[0m \u001b[1m9s\u001b[0m 16ms/step - accuracy: 0.9985 - loss: 0.0050 - val_accuracy: 0.9820 - val_loss: 0.0973\n",
      "Epoch 21/30\n",
      "\u001b[1m600/600\u001b[0m \u001b[32m━━━━━━━━━━━━━━━━━━━━\u001b[0m\u001b[37m\u001b[0m \u001b[1m10s\u001b[0m 16ms/step - accuracy: 0.9976 - loss: 0.0088 - val_accuracy: 0.9807 - val_loss: 0.0922\n",
      "Epoch 22/30\n",
      "\u001b[1m600/600\u001b[0m \u001b[32m━━━━━━━━━━━━━━━━━━━━\u001b[0m\u001b[37m\u001b[0m \u001b[1m10s\u001b[0m 16ms/step - accuracy: 0.9980 - loss: 0.0071 - val_accuracy: 0.9821 - val_loss: 0.0949\n",
      "Epoch 23/30\n",
      "\u001b[1m600/600\u001b[0m \u001b[32m━━━━━━━━━━━━━━━━━━━━\u001b[0m\u001b[37m\u001b[0m \u001b[1m9s\u001b[0m 16ms/step - accuracy: 0.9983 - loss: 0.0050 - val_accuracy: 0.9796 - val_loss: 0.1144\n",
      "Epoch 24/30\n",
      "\u001b[1m600/600\u001b[0m \u001b[32m━━━━━━━━━━━━━━━━━━━━\u001b[0m\u001b[37m\u001b[0m \u001b[1m10s\u001b[0m 16ms/step - accuracy: 0.9968 - loss: 0.0110 - val_accuracy: 0.9806 - val_loss: 0.1124\n",
      "Epoch 25/30\n",
      "\u001b[1m600/600\u001b[0m \u001b[32m━━━━━━━━━━━━━━━━━━━━\u001b[0m\u001b[37m\u001b[0m \u001b[1m10s\u001b[0m 16ms/step - accuracy: 0.9970 - loss: 0.0103 - val_accuracy: 0.9795 - val_loss: 0.1134\n",
      "Epoch 26/30\n",
      "\u001b[1m600/600\u001b[0m \u001b[32m━━━━━━━━━━━━━━━━━━━━\u001b[0m\u001b[37m\u001b[0m \u001b[1m10s\u001b[0m 16ms/step - accuracy: 0.9978 - loss: 0.0079 - val_accuracy: 0.9824 - val_loss: 0.0956\n",
      "Epoch 27/30\n",
      "\u001b[1m600/600\u001b[0m \u001b[32m━━━━━━━━━━━━━━━━━━━━\u001b[0m\u001b[37m\u001b[0m \u001b[1m11s\u001b[0m 18ms/step - accuracy: 0.9979 - loss: 0.0082 - val_accuracy: 0.9823 - val_loss: 0.0979\n",
      "Epoch 28/30\n",
      "\u001b[1m600/600\u001b[0m \u001b[32m━━━━━━━━━━━━━━━━━━━━\u001b[0m\u001b[37m\u001b[0m \u001b[1m12s\u001b[0m 20ms/step - accuracy: 0.9991 - loss: 0.0032 - val_accuracy: 0.9821 - val_loss: 0.0984\n",
      "Epoch 29/30\n",
      "\u001b[1m600/600\u001b[0m \u001b[32m━━━━━━━━━━━━━━━━━━━━\u001b[0m\u001b[37m\u001b[0m \u001b[1m11s\u001b[0m 19ms/step - accuracy: 0.9986 - loss: 0.0050 - val_accuracy: 0.9811 - val_loss: 0.1189\n",
      "Epoch 30/30\n",
      "\u001b[1m600/600\u001b[0m \u001b[32m━━━━━━━━━━━━━━━━━━━━\u001b[0m\u001b[37m\u001b[0m \u001b[1m7s\u001b[0m 12ms/step - accuracy: 0.9978 - loss: 0.0079 - val_accuracy: 0.9803 - val_loss: 0.1458\n"
     ]
    }
   ],
   "source": [
    "# Set callback functions which are called during model training\n",
    "CSV_FILE_PATH = 'tensorflow_test.csv'\n",
    "callbacks = []\n",
    "callbacks.append(tf.keras.callbacks.CSVLogger(CSV_FILE_PATH))\n",
    "\n",
    "# Train model\n",
    "history = model.fit(\n",
    "    x_train,\n",
    "    y_train,\n",
    "    batch_size=100,\n",
    "    epochs=30,\n",
    "    verbose=1,\n",
    "    validation_data=(x_test, y_test),\n",
    "    callbacks=callbacks,\n",
    ")"
   ]
  },
  {
   "cell_type": "code",
   "execution_count": 93,
   "metadata": {},
   "outputs": [
    {
     "name": "stdout",
     "output_type": "stream",
     "text": [
      "\u001b[1m1875/1875\u001b[0m \u001b[32m━━━━━━━━━━━━━━━━━━━━\u001b[0m\u001b[37m\u001b[0m \u001b[1m6s\u001b[0m 3ms/step - accuracy: 0.9960 - loss: 0.0202\n",
      "loss(train): 0.02124\n",
      "accuracy(train): 0.9957\n",
      "\n",
      "\u001b[1m313/313\u001b[0m \u001b[32m━━━━━━━━━━━━━━━━━━━━\u001b[0m\u001b[37m\u001b[0m \u001b[1m1s\u001b[0m 5ms/step - accuracy: 0.9760 - loss: 0.1865\n",
      "loss(test): 0.1458\n",
      "accuracy(test): 0.9803\n"
     ]
    }
   ],
   "source": [
    "# Model evaluation\n",
    "train_loss, train_acc = model.evaluate(x_train, y_train, verbose=1)\n",
    "print(\"loss(train): {:.4}\".format(train_loss))\n",
    "print(\"accuracy(train): {:.4}\".format(train_acc))\n",
    "\n",
    "print()\n",
    "\n",
    "test_loss, test_acc = model.evaluate(x_test, y_test, verbose=1)\n",
    "print(\"loss(test): {:.4}\".format(test_loss))\n",
    "print(\"accuracy(test): {:.4}\".format(test_acc))"
   ]
  },
  {
   "cell_type": "code",
   "execution_count": 94,
   "metadata": {},
   "outputs": [
    {
     "data": {
      "text/html": [
       "<div>\n",
       "<style scoped>\n",
       "    .dataframe tbody tr th:only-of-type {\n",
       "        vertical-align: middle;\n",
       "    }\n",
       "\n",
       "    .dataframe tbody tr th {\n",
       "        vertical-align: top;\n",
       "    }\n",
       "\n",
       "    .dataframe thead th {\n",
       "        text-align: right;\n",
       "    }\n",
       "</style>\n",
       "<table border=\"1\" class=\"dataframe\">\n",
       "  <thead>\n",
       "    <tr style=\"text-align: right;\">\n",
       "      <th></th>\n",
       "      <th>epoch</th>\n",
       "      <th>accuracy</th>\n",
       "      <th>loss</th>\n",
       "      <th>val_accuracy</th>\n",
       "      <th>val_loss</th>\n",
       "    </tr>\n",
       "  </thead>\n",
       "  <tbody>\n",
       "    <tr>\n",
       "      <th>0</th>\n",
       "      <td>0</td>\n",
       "      <td>0.935367</td>\n",
       "      <td>0.215356</td>\n",
       "      <td>0.9680</td>\n",
       "      <td>0.105322</td>\n",
       "    </tr>\n",
       "    <tr>\n",
       "      <th>1</th>\n",
       "      <td>1</td>\n",
       "      <td>0.973550</td>\n",
       "      <td>0.084197</td>\n",
       "      <td>0.9718</td>\n",
       "      <td>0.079012</td>\n",
       "    </tr>\n",
       "    <tr>\n",
       "      <th>2</th>\n",
       "      <td>2</td>\n",
       "      <td>0.983133</td>\n",
       "      <td>0.053699</td>\n",
       "      <td>0.9721</td>\n",
       "      <td>0.089630</td>\n",
       "    </tr>\n",
       "    <tr>\n",
       "      <th>3</th>\n",
       "      <td>3</td>\n",
       "      <td>0.986350</td>\n",
       "      <td>0.041536</td>\n",
       "      <td>0.9763</td>\n",
       "      <td>0.078006</td>\n",
       "    </tr>\n",
       "    <tr>\n",
       "      <th>4</th>\n",
       "      <td>4</td>\n",
       "      <td>0.989300</td>\n",
       "      <td>0.033018</td>\n",
       "      <td>0.9745</td>\n",
       "      <td>0.083972</td>\n",
       "    </tr>\n",
       "  </tbody>\n",
       "</table>\n",
       "</div>"
      ],
      "text/plain": [
       "   epoch  accuracy      loss  val_accuracy  val_loss\n",
       "0      0  0.935367  0.215356        0.9680  0.105322\n",
       "1      1  0.973550  0.084197        0.9718  0.079012\n",
       "2      2  0.983133  0.053699        0.9721  0.089630\n",
       "3      3  0.986350  0.041536        0.9763  0.078006\n",
       "4      4  0.989300  0.033018        0.9745  0.083972"
      ]
     },
     "execution_count": 94,
     "metadata": {},
     "output_type": "execute_result"
    }
   ],
   "source": [
    "df = pd.read_csv(CSV_FILE_PATH)\n",
    "df.head()"
   ]
  },
  {
   "cell_type": "code",
   "execution_count": 95,
   "metadata": {},
   "outputs": [],
   "source": [
    "epochs = df[\"epoch\"].values\n",
    "train_acc = df['accuracy'].values\n",
    "train_loss = df[\"loss\"].values\n",
    "test_acc = df['val_accuracy'].values\n",
    "test_loss = df[\"val_loss\"].values"
   ]
  },
  {
   "cell_type": "code",
   "execution_count": 96,
   "metadata": {},
   "outputs": [
    {
     "data": {
      "image/png": "[encoded data removed]",
      "text/plain": [
       "<Figure size 500x300 with 1 Axes>"
      ]
     },
     "metadata": {},
     "output_type": "display_data"
    }
   ],
   "source": [
    "plt.figure(figsize=(5, 3))\n",
    "plt.plot(epochs, train_loss, label=\"train data\")\n",
    "plt.plot(epochs, test_loss, label=\"test data\")\n",
    "plt.xlabel(\"epochs\")\n",
    "plt.ylabel(\"loss\\n(categorical crossentropy)\")\n",
    "plt.legend(loc=\"upper right\")\n",
    "plt.show()"
   ]
  },
  {
   "cell_type": "code",
   "execution_count": 97,
   "metadata": {},
   "outputs": [
    {
     "data": {
      "image/png": "[encoded data removed]",
      "text/plain": [
       "<Figure size 500x300 with 1 Axes>"
      ]
     },
     "metadata": {},
     "output_type": "display_data"
    }
   ],
   "source": [
    "plt.figure(figsize=(5, 3))\n",
    "plt.plot(epochs, train_acc, label=\"train data\")\n",
    "plt.plot(epochs, test_acc, label=\"test data\")\n",
    "plt.xlabel(\"epochs\")\n",
    "plt.ylabel(\"accuracy\")\n",
    "plt.legend(loc=\"lower right\")\n",
    "plt.show()"
   ]
  },
  {
   "cell_type": "code",
   "execution_count": 87,
   "metadata": {},
   "outputs": [
    {
     "ename": "AttributeError",
     "evalue": "'Sequential' object has no attribute 'predict_classes'",
     "output_type": "error",
     "traceback": [
      "\u001b[1;31m---------------------------------------------------------------------------\u001b[0m",
      "\u001b[1;31mAttributeError\u001b[0m                            Traceback (most recent call last)",
      "Cell \u001b[1;32mIn[87], line 3\u001b[0m\n\u001b[0;32m      1\u001b[0m \u001b[38;5;28;01mfor\u001b[39;00m i \u001b[38;5;129;01min\u001b[39;00m [\u001b[38;5;241m0\u001b[39m, \u001b[38;5;241m1\u001b[39m, \u001b[38;5;241m2\u001b[39m]:\n\u001b[0;32m      2\u001b[0m     y_true \u001b[38;5;241m=\u001b[39m y_test[i]\n\u001b[1;32m----> 3\u001b[0m     y_pred \u001b[38;5;241m=\u001b[39m \u001b[43mmodel\u001b[49m\u001b[38;5;241;43m.\u001b[39;49m\u001b[43mpredict_classes\u001b[49m(x_test[i]\u001b[38;5;241m.\u001b[39mreshape(\u001b[38;5;241m1\u001b[39m, \u001b[38;5;241m28\u001b[39m, \u001b[38;5;241m28\u001b[39m))[\u001b[38;5;241m0\u001b[39m]\n\u001b[0;32m      4\u001b[0m     \u001b[38;5;28mprint\u001b[39m(\u001b[38;5;124m\"\u001b[39m\u001b[38;5;124my_test_pred\u001b[39m\u001b[38;5;124m\"\u001b[39m, \u001b[38;5;124m\"\u001b[39m\u001b[38;5;124m(i=\u001b[39m\u001b[38;5;124m\"\u001b[39m \u001b[38;5;241m+\u001b[39m \u001b[38;5;28mstr\u001b[39m(i) \u001b[38;5;241m+\u001b[39m \u001b[38;5;124m\"\u001b[39m\u001b[38;5;124m): \u001b[39m\u001b[38;5;124m\"\u001b[39m, y_pred)\n\u001b[0;32m      5\u001b[0m     \u001b[38;5;28mprint\u001b[39m(\u001b[38;5;124m\"\u001b[39m\u001b[38;5;124my_test_true\u001b[39m\u001b[38;5;124m\"\u001b[39m, \u001b[38;5;124m\"\u001b[39m\u001b[38;5;124m(i=\u001b[39m\u001b[38;5;124m\"\u001b[39m \u001b[38;5;241m+\u001b[39m \u001b[38;5;28mstr\u001b[39m(i) \u001b[38;5;241m+\u001b[39m \u001b[38;5;124m\"\u001b[39m\u001b[38;5;124m): \u001b[39m\u001b[38;5;124m\"\u001b[39m, y_true)\n",
      "\u001b[1;31mAttributeError\u001b[0m: 'Sequential' object has no attribute 'predict_classes'"
     ]
    }
   ],
   "source": [
    "for i in [0, 1, 2]:\n",
    "    y_true = y_test[i]\n",
    "    y_pred = model.predict_classes(x_test[i].reshape(1, 28, 28))[0]\n",
    "    print(\"y_test_pred\", \"(i=\" + str(i) + \"): \", y_pred)\n",
    "    print(\"y_test_true\", \"(i=\" + str(i) + \"): \", y_true)\n",
    "    print(\"X_test\", \"(i=\" + str(i) + \"): \")\n",
    "    plt.imshow(x_test[i], cmap=\"gray\")\n",
    "    plt.show()"
   ]
  }
 ],
 "metadata": {
  "kernelspec": {
   "display_name": ".venv",
   "language": "python",
   "name": "python3"
  },
  "language_info": {
   "codemirror_mode": {
    "name": "ipython",
    "version": 3
   },
   "file_extension": ".py",
   "mimetype": "text/x-python",
   "name": "python",
   "nbconvert_exporter": "python",
   "pygments_lexer": "ipython3",
   "version": "3.11.9"
  }
 },
 "nbformat": 4,
 "nbformat_minor": 2
}
